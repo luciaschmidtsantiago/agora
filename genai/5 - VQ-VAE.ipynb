{
 "cells": [
  {
   "cell_type": "markdown",
   "id": "370db216",
   "metadata": {},
   "source": [
    "# VQ-VAE presentation (Ágora)\n",
    "\n",
    "Ágora session: June 24, 2025"
   ]
  },
  {
   "cell_type": "markdown",
   "id": "c1d70b3a",
   "metadata": {},
   "source": [
    "## Brief introduction"
   ]
  },
  {
   "cell_type": "markdown",
   "id": "96ba3f70",
   "metadata": {},
   "source": [
    "### Model parts\n",
    "\n",
    "Given inputs $\\mathbf{x} \\in \\mathbb{R}^n$, let the encoder output be denoted as\n",
    "\n",
    "$$\n",
    "z_e(\\mathbf{x}) = E(\\mathbf{x}) \\in \\mathbb{R}^D.\n",
    "$$\n",
    "\n",
    "Define the codebook as a set of vectors (embeddings):\n",
    "\n",
    "$$\n",
    "\\{\\mathbf{e}_i\\}_{i=1}^K, \\quad \\mathbf{e}_i \\in \\mathbb{R}^D.\n",
    "$$\n",
    "\n",
    "Map the continuous encoder output to the dictionary words:\n",
    "\n",
    "$$\n",
    "k^*(\\mathbf{x})\n",
    "= \\arg \\min_{i=1,\\ldots,K} \\left|\\left|z_e(\\mathbf{x}) - \\mathbf{e}_i\\right|\\right|_2^2, \\quad z_q(x) = \\mathbf{e}_{k^*(\\mathbf{x})}.\n",
    "$$\n",
    "\n",
    "Given this quantized input, the decoder reconstruct the sample back to its original form:\n",
    "\n",
    "$$\n",
    "\\hat{\\mathbf{x}} = D\\left(z_q(\\mathbf{x})\\right) \\in \\mathbb{R}^n.\n",
    "$$\n",
    "\n",
    "Note, in the VQ-VAE paper $\\mathrm{sg}[\\cdot]$ denotes the operation by which we forward pass identity and backward pass zero gradient.\n",
    "\n",
    "### Loss function (per example)\n",
    "\n",
    "For a single input $\\mathbf{x}$:\n",
    "\n",
    "$$\n",
    "\\mathcal{L}(\\mathbf{x}) =\n",
    "\\underbrace{\\left|\\left|\\mathbf{x}-\\hat{\\mathbf{x}}\\right|\\right|_2^2}_{\\text{reconstruction}}\n",
    "+ \\underbrace{\\left|\\left|\\mathrm{sg}\\left[z_e(\\mathbf{x})\\right] - e_{k^*}\\right|\\right|_2^2}_{\\text{codebook}}\n",
    "+ \\underbrace{\\beta\\left|\\left|z_e(\\mathbf{x}) - \\mathrm{sg}\\left[e_{k^*}\\right]\\right|\\right|_2^2}_{\\text{commitment}}\n",
    "$$\n",
    "\n",
    "with $\\beta > 0$ being a hyperparameter. The VQ-VAE authors empirically settled on $\\beta = 0.25$.\n",
    "\n",
    "#### EMA codebook update\n",
    "\n",
    "In practice, we usually employ an EMA codebook update for the codebook loss.\n",
    "\n",
    "It is possible to see the ideal update for this term as the batch average of all encoder outputs mapped to $\\mathbf{e}_i$. Suppose in a given batch the encoder output closes to a given embeddings are\n",
    "\n",
    "$$\n",
    "\\{\\mathbf{z}_{i,1}, \\mathbf{z}_{i,2}, \\ldots, \\mathbf{z}_{i, n_i}\\},\n",
    "$$\n",
    "\n",
    "then the optimal update is just\n",
    "\n",
    "$$\n",
    "\\mathbf{e}_i = \\frac{1}{n_i} \\sum_{j=1}^{n_i} \\mathbf{z}_{i,j}.\n",
    "$$\n",
    "\n",
    "But... this is rather impractical (requires keeping sums across entire dataset).\n",
    "\n",
    "Therefore we employ EMA. Here use $t$ to represent a given minibatch; $n_i^{(t)}$ to signal the number of assignments to $\\mathbf{e}_i$; $\\{\\mathbf{z}_{i,j}^(t)\\}$ are the corresponding encoder outputs; and $0 < \\gamma < 1$ is the decay factor.\n",
    "\n",
    "We begin by accumulating counts:\n",
    "\n",
    "$$\n",
    "N_i^{(t)}\n",
    "= \\gamma N_i^{(t-1)} + (1-\\gamma) n_i^{(t)},\n",
    "$$\n",
    "\n",
    "then sums:\n",
    "\n",
    "$$\n",
    "m_i^{(t)} = \\gamma m_i^{(t-1)} + (1-\\gamma) \\sum_{j=1}^{n_i^{(t)}} \\mathbf{z}_{i,j}^{(t)}.\n",
    "$$\n",
    "\n",
    "Now we recompute the codebook vector:\n",
    "\n",
    "$$\n",
    "\\mathbf{e}_i^{(t)} =\n",
    "\\frac{m_i^{(t)}}{N_i^{(t)}}.\n",
    "$$\n",
    "\n",
    "The authors used $\\gamma = 0.99$. By being close to $1$, this compels $N_i$ and $m_i$ to have long memory, effectively approx. the full dataset mean in an online manner."
   ]
  },
  {
   "cell_type": "markdown",
   "id": "3849558c",
   "metadata": {},
   "source": [
    "## Code"
   ]
  },
  {
   "cell_type": "markdown",
   "id": "65cf02c6",
   "metadata": {},
   "source": [
    "Loading necessary libraries and setting seed for reproducibility."
   ]
  },
  {
   "cell_type": "code",
   "execution_count": 1,
   "id": "7040dfd9",
   "metadata": {},
   "outputs": [
    {
     "data": {
      "text/plain": [
       "device(type='cuda')"
      ]
     },
     "execution_count": 1,
     "metadata": {},
     "output_type": "execute_result"
    }
   ],
   "source": [
    "import random\n",
    "\n",
    "import numpy as np\n",
    "from tqdm import tqdm\n",
    "\n",
    "import torch\n",
    "import torch.nn as nn\n",
    "import torch.nn.functional as F\n",
    "from torch.utils.data import DataLoader, random_split\n",
    "from torchvision import transforms, datasets\n",
    "\n",
    "import matplotlib.pyplot as plt\n",
    "\n",
    "# set seed for all modules\n",
    "def set_seed(seed=42):\n",
    "    random.seed(seed)\n",
    "    np.random.seed(seed)\n",
    "    torch.manual_seed(seed)\n",
    "\n",
    "set_seed()\n",
    "device = torch.device(\"cuda\" if torch.cuda.is_available() else \"cpu\")\n",
    "device"
   ]
  },
  {
   "cell_type": "markdown",
   "id": "75f44b72",
   "metadata": {},
   "source": [
    "Fetching, loading and preparing data."
   ]
  },
  {
   "cell_type": "code",
   "execution_count": 2,
   "id": "c2af43d2",
   "metadata": {},
   "outputs": [],
   "source": [
    "transform_common = transforms.Compose([\n",
    "    transforms.ToTensor(),\n",
    "    transforms.Normalize((0.5,)*3, (0.5,)*3)\n",
    "])\n",
    "\n",
    "datasets_config = {\n",
    "    \"MNIST\": dict(\n",
    "        cls=datasets.MNIST,\n",
    "        args=dict(\n",
    "            root=\"./data/mnist\", train=True, download=True,\n",
    "            transform=transforms.Compose([transforms.Grayscale(3), transforms.ToTensor(),\n",
    "                                          transforms.Normalize((0.5,)*3,(0.5,)*3)])),\n",
    "        test_args=dict(\n",
    "            root=\"./data/mnist\", train=False, download=True,\n",
    "            transform=transforms.Compose([transforms.Grayscale(3), transforms.ToTensor(),\n",
    "                                          transforms.Normalize((0.5,)*3,(0.5,)*3)])),\n",
    "        batch_size=128\n",
    "    ),\n",
    "    \"CIFAR10\": dict(\n",
    "        cls=datasets.CIFAR10,\n",
    "        args=dict(\n",
    "            root=\"./data/cifar10\", train=True, download=True, transform=transform_common),\n",
    "            test_args=dict(root=\"./data/cifar10\", train=False, download=True, transform=transform_common),\n",
    "        batch_size=128\n",
    "    ),\n",
    "    #\"CelebA\": dict(\n",
    "    #    cls=datasets.CelebA,\n",
    "    #    args=dict(root=\"./data/celeba\", split=\"all\", target_type=\"attr\", download=False,\n",
    "    #              transform=transforms.Compose([transforms.CenterCrop(178), transforms.Resize(64), \n",
    "    #                                            transforms.ToTensor(), transforms.Normalize((0.5,)*3,(0.5,)*3)])),\n",
    "    #    test_args=None,\n",
    "    #    batch_size=64\n",
    "    #)\n",
    "}\n"
   ]
  },
  {
   "cell_type": "markdown",
   "id": "d20a392b",
   "metadata": {},
   "source": [
    "### MNIST VQ-VAE"
   ]
  },
  {
   "cell_type": "code",
   "execution_count": 3,
   "id": "1532f450",
   "metadata": {},
   "outputs": [],
   "source": [
    "class EncoderMNIST(nn.Module):\n",
    "    def __init__(self, z_dim):\n",
    "        super().__init__()\n",
    "\n",
    "        self.conv = nn.Sequential(\n",
    "            nn.Conv2d(3, 32, 4, 2, 1),\n",
    "            nn.ReLU(),\n",
    "            nn.Conv2d(32, z_dim, 4, 2, 1)\n",
    "        )\n",
    "\n",
    "    def forward(self, x): \n",
    "        return self.conv(x)\n",
    "\n",
    "class DecoderMNIST(nn.Module):\n",
    "    def __init__(self, z_dim):\n",
    "        super().__init__()\n",
    "\n",
    "        self.conv = nn.Sequential(\n",
    "            nn.ConvTranspose2d(z_dim, 32, 4, 2, 1),\n",
    "            nn.ReLU(),\n",
    "            nn.ConvTranspose2d(32, 3, 4, 2, 1),\n",
    "            nn.Tanh()\n",
    "        )\n",
    "        \n",
    "    def forward(self, x):\n",
    "        return self.conv(x)"
   ]
  },
  {
   "cell_type": "markdown",
   "id": "ff2f756f",
   "metadata": {},
   "source": [
    "### CIFAR10 VQ-VAE"
   ]
  },
  {
   "cell_type": "code",
   "execution_count": 4,
   "id": "15eb4831",
   "metadata": {},
   "outputs": [],
   "source": [
    "class EncoderCIFAR(nn.Module):\n",
    "    def __init__(self, z_dim):\n",
    "        super().__init__()\n",
    "\n",
    "        self.conv = nn.Sequential(\n",
    "            nn.Conv2d(3, 64, 4, 2, 1),\n",
    "            nn.BatchNorm2d(64),\n",
    "            nn.ReLU(),\n",
    "\n",
    "            nn.Conv2d(64, 128, 4, 2, 1),\n",
    "            nn.BatchNorm2d(128),\n",
    "            nn.ReLU(),\n",
    "            nn.Conv2d(128, z_dim, 3, 1, 1)\n",
    "        )\n",
    "\n",
    "    def forward(self, x):\n",
    "        return self.conv(x)\n",
    "\n",
    "class DecoderCIFAR(nn.Module):\n",
    "    def __init__(self, z_dim):\n",
    "        super().__init__()\n",
    "\n",
    "        self.conv = nn.Sequential(\n",
    "            nn.Conv2d(z_dim, 128, 3, 1, 1),\n",
    "            nn.BatchNorm2d(128),\n",
    "            nn.ReLU(),\n",
    "\n",
    "            nn.ConvTranspose2d(128, 64, 4, 2, 1),\n",
    "            nn.BatchNorm2d(64),\n",
    "            nn.ReLU(),\n",
    "\n",
    "            nn.ConvTranspose2d(64, 3, 4, 2, 1),\n",
    "            nn.Tanh()\n",
    "        )\n",
    "        \n",
    "    def forward(self, x):\n",
    "        return self.conv(x)"
   ]
  },
  {
   "cell_type": "markdown",
   "id": "a6b0038d",
   "metadata": {},
   "source": [
    "### Vector quantizer (with EMA)"
   ]
  },
  {
   "cell_type": "code",
   "execution_count": 5,
   "id": "4b3057c6",
   "metadata": {},
   "outputs": [],
   "source": [
    "class VectorQuantizerEMA(nn.Module):\n",
    "    def __init__(\n",
    "            self, num_embeddings, embedding_dim, commitment_cost,\n",
    "            decay=0.99, eps=1e-5\n",
    "        ):\n",
    "        super().__init__()\n",
    "\n",
    "        self.num_embeddings = num_embeddings\n",
    "        self.embedding = nn.Embedding(num_embeddings, embedding_dim)\n",
    "\n",
    "        self.embedding.weight.data.normal_(0, 1)\n",
    "        self.register_buffer(\"ema_cluster_size\", torch.zeros(num_embeddings))\n",
    "        self.ema_w = nn.Parameter(self.embedding.weight.data.clone())\n",
    "\n",
    "        self.decay, self.eps, self.commitment_cost = decay, eps, commitment_cost\n",
    "\n",
    "    def forward(self, inputs):\n",
    "        shape = inputs.shape\n",
    "        flat = inputs.permute(0,2,3,1).reshape(-1, shape[1])\n",
    "\n",
    "        dist = (flat**2).sum(1, keepdim=True) \\\n",
    "            + (self.embedding.weight**2).sum(1) - 2*flat @ self.embedding.weight.t()\n",
    "        idx = dist.argmin(1)\n",
    "        one_hot = F.one_hot(idx, self.embedding.num_embeddings).type(flat.dtype)\n",
    "\n",
    "        quant = one_hot @ self.embedding.weight\n",
    "        quant = quant.view(shape[0], shape[2], shape[3], shape[1]).permute(0,3,1,2)\n",
    "\n",
    "        if self.training:\n",
    "            n = one_hot.sum(0)\n",
    "            self.ema_cluster_size = self.ema_cluster_size * self.decay + (1-self.decay)*n\n",
    "            dw = one_hot.t() @ flat\n",
    "\n",
    "            self.ema_w = nn.Parameter(self.ema_w * self.decay + (1-self.decay)*dw)\n",
    "            cluster_size = ((self.ema_cluster_size + self.eps) / \n",
    "                            (self.ema_cluster_size.sum() + self.num_embeddings * self.eps) *\n",
    "                            self.ema_cluster_size.sum())\n",
    "            self.embedding.weight.data = self.ema_w / cluster_size.unsqueeze(1)\n",
    "\n",
    "        e_loss = F.mse_loss(quant.detach(), inputs)\n",
    "        q_loss = F.mse_loss(quant, inputs.detach())\n",
    "\n",
    "        loss = q_loss + self.commitment_cost * e_loss\n",
    "        \n",
    "        quant = inputs + (quant - inputs).detach()\n",
    "        avg_probs = one_hot.mean(0)\n",
    "        perp = torch.exp(- (avg_probs * torch.log(avg_probs + 1e-10)).sum())\n",
    "\n",
    "        return quant, loss, perp"
   ]
  },
  {
   "cell_type": "markdown",
   "id": "982591a4",
   "metadata": {},
   "source": [
    "### Full model"
   ]
  },
  {
   "cell_type": "code",
   "execution_count": 6,
   "id": "7ae5b969",
   "metadata": {},
   "outputs": [],
   "source": [
    "class VQVAE(nn.Module):\n",
    "    def __init__(self, dataset):\n",
    "        super().__init__()\n",
    "\n",
    "        if dataset==\"MNIST\":\n",
    "            z_dim, n_e = 32, 128\n",
    "            self.encoder = EncoderMNIST(z_dim)\n",
    "            self.decoder = DecoderMNIST(z_dim)\n",
    "\n",
    "        elif dataset==\"CIFAR10\":\n",
    "            z_dim, n_e = 64, 512\n",
    "            self.encoder = EncoderCIFAR(z_dim)\n",
    "            self.decoder = DecoderCIFAR(z_dim)\n",
    "        #else:\n",
    "        #    z_dim, n_e = 128, 512\n",
    "        #    self.encoder = EncoderCelebA(z_dim)\n",
    "        #    self.decoder = DecoderCelebA(z_dim)\n",
    "\n",
    "        self.pre_vq = nn.Conv2d(z_dim, z_dim, 1)\n",
    "        self.vq = VectorQuantizerEMA(n_e, z_dim, commitment_cost=0.25)\n",
    "\n",
    "    def forward(self, x):\n",
    "        z = self.encoder(x)\n",
    "        z = self.pre_vq(z)\n",
    "        q, vq_loss, perp = self.vq(z)\n",
    "        \n",
    "        return self.decoder(q), vq_loss, perp\n"
   ]
  },
  {
   "cell_type": "markdown",
   "id": "7b305cb7",
   "metadata": {},
   "source": [
    "### Additional utilities"
   ]
  },
  {
   "cell_type": "markdown",
   "id": "ecb1e9ad",
   "metadata": {},
   "source": [
    "Helper for early stopping."
   ]
  },
  {
   "cell_type": "code",
   "execution_count": 7,
   "id": "ada8ed61",
   "metadata": {},
   "outputs": [],
   "source": [
    "class EarlyStopping:\n",
    "    def __init__(self, patience=10, min_delta=0.0):\n",
    "\n",
    "        self.patience = patience\n",
    "        self.min_delta = min_delta\n",
    "\n",
    "        self.best_loss = float(\"inf\")\n",
    "        self.wait = 0\n",
    "        \n",
    "    def step(self, val_loss):\n",
    "        if val_loss < self.best_loss - self.min_delta:\n",
    "            self.best_loss = val_loss\n",
    "            self.wait = 0\n",
    "            return False\n",
    "        else:\n",
    "            self.wait += 1\n",
    "            return self.wait >= self.patience"
   ]
  },
  {
   "cell_type": "markdown",
   "id": "c00ce84b",
   "metadata": {},
   "source": [
    "Helpers for model saving, loading."
   ]
  },
  {
   "cell_type": "code",
   "execution_count": 8,
   "id": "5180628d",
   "metadata": {},
   "outputs": [],
   "source": [
    "def save_checkpoint(model, optimizer, epoch, path):\n",
    "    torch.save(\n",
    "        {\n",
    "            \"model_state_dict\": model.state_dict(),\n",
    "            \"optimizer_state_dict\": optimizer.state_dict(),\n",
    "            \"epoch\": epoch\n",
    "        },\n",
    "        path\n",
    "    )\n",
    "\n",
    "\n",
    "def load_checkpoint(model, optimizer, path):\n",
    "    ckpt = torch.load(path, map_location=device)\n",
    "\n",
    "    model.load_state_dict(ckpt[\"model_state_dict\"])\n",
    "    optimizer.load_state_dict(ckpt[\"optimizer_state_dict\"])\n",
    "    \n",
    "    return ckpt[\"epoch\"]"
   ]
  },
  {
   "cell_type": "markdown",
   "id": "6e6b5862",
   "metadata": {},
   "source": [
    "Training and evaluation functions."
   ]
  },
  {
   "cell_type": "code",
   "execution_count": 9,
   "id": "aee3c099",
   "metadata": {},
   "outputs": [],
   "source": [
    "def train_vqvae(model, train_loader, val_loader, n_epochs, lr, patience, save_path):\n",
    "\n",
    "    model.to(device)\n",
    "\n",
    "    optimizer = torch.optim.Adam(model.parameters(), lr=lr)\n",
    "\n",
    "    recon_loss_fn = nn.MSELoss()\n",
    "    early_stop = EarlyStopping(patience)\n",
    "\n",
    "    best_val = float(\"inf\")\n",
    "\n",
    "    for epoch in range(1, n_epochs+1):\n",
    "\n",
    "        model.train()\n",
    "\n",
    "        train_loss = 0\n",
    "\n",
    "        for x, _ in tqdm(train_loader, desc=f\"Training Epoch {epoch}\"):\n",
    "            x = x.to(device)\n",
    "\n",
    "            optimizer.zero_grad()\n",
    "\n",
    "            x_recon, vq_loss, _ = model(x)\n",
    "\n",
    "            loss = recon_loss_fn(x_recon, x) + vq_loss\n",
    "            loss.backward()\n",
    "            optimizer.step()\n",
    "\n",
    "            train_loss += loss.item() * x.size(0)\n",
    "\n",
    "        train_loss /= len(train_loader.dataset)\n",
    "\n",
    "        model.eval()\n",
    "        val_loss = 0\n",
    "        with torch.no_grad():\n",
    "            for x, _ in val_loader:\n",
    "                x = x.to(device)\n",
    "                x_recon, vq_loss, _ = model(x)\n",
    "                val_loss += \\\n",
    "                    (recon_loss_fn(x_recon, x) + vq_loss).item() * x.size(0)\n",
    "\n",
    "        val_loss /= len(val_loader.dataset)\n",
    "        print(f\"Epoch {epoch:03d} | Train: {train_loss:.4f} | Val: {val_loss:.4f}\")\n",
    "\n",
    "        if val_loss < best_val:\n",
    "            best_val = val_loss\n",
    "            save_checkpoint(model, optimizer, epoch, save_path)\n",
    "\n",
    "        if early_stop.step(val_loss):\n",
    "            print(\"Early stopping.\")\n",
    "            break\n",
    "\n",
    "    load_checkpoint(model, optimizer, save_path)\n",
    "\n",
    "    return model\n",
    "\n",
    "\n",
    "def evaluate(model, test_loader):\n",
    "\n",
    "    model.eval()\n",
    "\n",
    "    recon_loss_fn = nn.MSELoss()\n",
    "    total = 0\n",
    "\n",
    "    with torch.no_grad():\n",
    "        for x, _ in test_loader:\n",
    "            x = x.to(device)\n",
    "\n",
    "            x_recon, vq_loss, _ = model(x)\n",
    "\n",
    "            total += \\\n",
    "                (recon_loss_fn(x_recon, x) + vq_loss).item() * x.size(0)\n",
    "\n",
    "    avg = total / len(test_loader.dataset)\n",
    "    print(f\"Test Loss: {avg:.4f}\")"
   ]
  },
  {
   "cell_type": "markdown",
   "id": "97f58c08",
   "metadata": {},
   "source": [
    "Plotting reconstructions and originals side by side."
   ]
  },
  {
   "cell_type": "code",
   "execution_count": 10,
   "id": "08f149b9",
   "metadata": {},
   "outputs": [],
   "source": [
    "def visualize_reconstructions(model, data_loader, n=8):\n",
    "\n",
    "    model.eval()\n",
    "\n",
    "    batch = next(iter(data_loader))[0][:n].to(device)\n",
    "\n",
    "    with torch.no_grad():\n",
    "        recon, _, _ = model(batch)\n",
    "    batch, recon = batch.cpu(), recon.cpu()\n",
    "\n",
    "    fig, axes = plt.subplots(2, n, figsize=(n*2, 4))\n",
    "    for i in range(n):\n",
    "        img = batch[i].permute(1,2,0) * 0.5 + 0.5\n",
    "        axes[0,i].imshow(img.clip(0,1))\n",
    "        axes[0,i].axis(\"off\")\n",
    "\n",
    "        img_r = recon[i].permute(1,2,0) * 0.5 + 0.5\n",
    "        axes[1,i].imshow(img_r.clip(0,1))\n",
    "        axes[1,i].axis(\"off\")\n",
    "        \n",
    "    plt.show()"
   ]
  },
  {
   "cell_type": "markdown",
   "id": "2ffccf76",
   "metadata": {},
   "source": [
    "### Driver code (MNIST)"
   ]
  },
  {
   "cell_type": "code",
   "execution_count": 11,
   "id": "be393de2",
   "metadata": {},
   "outputs": [
    {
     "name": "stderr",
     "output_type": "stream",
     "text": [
      "Training Epoch 1: 100%|██████████| 461/461 [00:02<00:00, 181.90it/s]\n"
     ]
    },
    {
     "name": "stdout",
     "output_type": "stream",
     "text": [
      "Epoch 001 | Train: 2.2865 | Val: 4.2516\n"
     ]
    },
    {
     "name": "stderr",
     "output_type": "stream",
     "text": [
      "Training Epoch 2: 100%|██████████| 461/461 [00:02<00:00, 197.49it/s]\n"
     ]
    },
    {
     "name": "stdout",
     "output_type": "stream",
     "text": [
      "Epoch 002 | Train: 4.9780 | Val: 6.0541\n"
     ]
    },
    {
     "name": "stderr",
     "output_type": "stream",
     "text": [
      "Training Epoch 3: 100%|██████████| 461/461 [00:02<00:00, 213.25it/s]\n"
     ]
    },
    {
     "name": "stdout",
     "output_type": "stream",
     "text": [
      "Epoch 003 | Train: 0.6221 | Val: 0.1366\n"
     ]
    },
    {
     "name": "stderr",
     "output_type": "stream",
     "text": [
      "Training Epoch 4: 100%|██████████| 461/461 [00:02<00:00, 215.62it/s]\n"
     ]
    },
    {
     "name": "stdout",
     "output_type": "stream",
     "text": [
      "Epoch 004 | Train: 0.1141 | Val: 0.0830\n"
     ]
    },
    {
     "name": "stderr",
     "output_type": "stream",
     "text": [
      "Training Epoch 5: 100%|██████████| 461/461 [00:02<00:00, 211.10it/s]\n"
     ]
    },
    {
     "name": "stdout",
     "output_type": "stream",
     "text": [
      "Epoch 005 | Train: 0.0701 | Val: 0.0598\n"
     ]
    },
    {
     "name": "stderr",
     "output_type": "stream",
     "text": [
      "Training Epoch 6: 100%|██████████| 461/461 [00:02<00:00, 217.30it/s]\n"
     ]
    },
    {
     "name": "stdout",
     "output_type": "stream",
     "text": [
      "Epoch 006 | Train: 0.0553 | Val: 0.0515\n"
     ]
    },
    {
     "name": "stderr",
     "output_type": "stream",
     "text": [
      "Training Epoch 7: 100%|██████████| 461/461 [00:02<00:00, 219.73it/s]\n"
     ]
    },
    {
     "name": "stdout",
     "output_type": "stream",
     "text": [
      "Epoch 007 | Train: 0.0492 | Val: 0.0471\n"
     ]
    },
    {
     "name": "stderr",
     "output_type": "stream",
     "text": [
      "Training Epoch 8: 100%|██████████| 461/461 [00:02<00:00, 209.22it/s]\n"
     ]
    },
    {
     "name": "stdout",
     "output_type": "stream",
     "text": [
      "Epoch 008 | Train: 0.0459 | Val: 0.0446\n"
     ]
    },
    {
     "name": "stderr",
     "output_type": "stream",
     "text": [
      "Training Epoch 9: 100%|██████████| 461/461 [00:02<00:00, 222.19it/s]\n"
     ]
    },
    {
     "name": "stdout",
     "output_type": "stream",
     "text": [
      "Epoch 009 | Train: 0.0446 | Val: 0.0446\n"
     ]
    },
    {
     "name": "stderr",
     "output_type": "stream",
     "text": [
      "Training Epoch 10: 100%|██████████| 461/461 [00:02<00:00, 218.26it/s]\n"
     ]
    },
    {
     "name": "stdout",
     "output_type": "stream",
     "text": [
      "Epoch 010 | Train: 0.0448 | Val: 0.0452\n"
     ]
    },
    {
     "name": "stderr",
     "output_type": "stream",
     "text": [
      "Training Epoch 11: 100%|██████████| 461/461 [00:02<00:00, 218.87it/s]\n"
     ]
    },
    {
     "name": "stdout",
     "output_type": "stream",
     "text": [
      "Epoch 011 | Train: 0.0455 | Val: 0.0459\n"
     ]
    },
    {
     "name": "stderr",
     "output_type": "stream",
     "text": [
      "Training Epoch 12: 100%|██████████| 461/461 [00:02<00:00, 208.73it/s]\n"
     ]
    },
    {
     "name": "stdout",
     "output_type": "stream",
     "text": [
      "Epoch 012 | Train: 0.0466 | Val: 0.0471\n"
     ]
    },
    {
     "name": "stderr",
     "output_type": "stream",
     "text": [
      "Training Epoch 13: 100%|██████████| 461/461 [00:02<00:00, 210.29it/s]\n"
     ]
    },
    {
     "name": "stdout",
     "output_type": "stream",
     "text": [
      "Epoch 013 | Train: 0.0478 | Val: 0.0486\n"
     ]
    },
    {
     "name": "stderr",
     "output_type": "stream",
     "text": [
      "Training Epoch 14: 100%|██████████| 461/461 [00:02<00:00, 214.59it/s]\n"
     ]
    },
    {
     "name": "stdout",
     "output_type": "stream",
     "text": [
      "Epoch 014 | Train: 0.0491 | Val: 0.0494\n"
     ]
    },
    {
     "name": "stderr",
     "output_type": "stream",
     "text": [
      "Training Epoch 15: 100%|██████████| 461/461 [00:02<00:00, 215.62it/s]\n"
     ]
    },
    {
     "name": "stdout",
     "output_type": "stream",
     "text": [
      "Epoch 015 | Train: 0.0500 | Val: 0.0504\n"
     ]
    },
    {
     "name": "stderr",
     "output_type": "stream",
     "text": [
      "Training Epoch 16: 100%|██████████| 461/461 [00:02<00:00, 222.77it/s]\n"
     ]
    },
    {
     "name": "stdout",
     "output_type": "stream",
     "text": [
      "Epoch 016 | Train: 0.0507 | Val: 0.0509\n"
     ]
    },
    {
     "name": "stderr",
     "output_type": "stream",
     "text": [
      "Training Epoch 17: 100%|██████████| 461/461 [00:02<00:00, 211.11it/s]\n"
     ]
    },
    {
     "name": "stdout",
     "output_type": "stream",
     "text": [
      "Epoch 017 | Train: 0.0511 | Val: 0.0514\n"
     ]
    },
    {
     "name": "stderr",
     "output_type": "stream",
     "text": [
      "Training Epoch 18: 100%|██████████| 461/461 [00:02<00:00, 216.75it/s]\n"
     ]
    },
    {
     "name": "stdout",
     "output_type": "stream",
     "text": [
      "Epoch 018 | Train: 0.0514 | Val: 0.0517\n"
     ]
    },
    {
     "name": "stderr",
     "output_type": "stream",
     "text": [
      "Training Epoch 19: 100%|██████████| 461/461 [00:02<00:00, 217.36it/s]\n"
     ]
    },
    {
     "name": "stdout",
     "output_type": "stream",
     "text": [
      "Epoch 019 | Train: 0.0516 | Val: 0.0515\n"
     ]
    },
    {
     "name": "stderr",
     "output_type": "stream",
     "text": [
      "Training Epoch 20: 100%|██████████| 461/461 [00:02<00:00, 216.72it/s]\n"
     ]
    },
    {
     "name": "stdout",
     "output_type": "stream",
     "text": [
      "Epoch 020 | Train: 0.0516 | Val: 0.0516\n"
     ]
    },
    {
     "name": "stderr",
     "output_type": "stream",
     "text": [
      "Training Epoch 21: 100%|██████████| 461/461 [00:02<00:00, 217.16it/s]\n"
     ]
    },
    {
     "name": "stdout",
     "output_type": "stream",
     "text": [
      "Epoch 021 | Train: 0.0517 | Val: 0.0516\n"
     ]
    },
    {
     "name": "stderr",
     "output_type": "stream",
     "text": [
      "Training Epoch 22: 100%|██████████| 461/461 [00:02<00:00, 223.70it/s]\n"
     ]
    },
    {
     "name": "stdout",
     "output_type": "stream",
     "text": [
      "Epoch 022 | Train: 0.0516 | Val: 0.0515\n"
     ]
    },
    {
     "name": "stderr",
     "output_type": "stream",
     "text": [
      "Training Epoch 23: 100%|██████████| 461/461 [00:02<00:00, 206.76it/s]\n"
     ]
    },
    {
     "name": "stdout",
     "output_type": "stream",
     "text": [
      "Epoch 023 | Train: 0.0516 | Val: 0.0515\n"
     ]
    },
    {
     "name": "stderr",
     "output_type": "stream",
     "text": [
      "Training Epoch 24: 100%|██████████| 461/461 [00:02<00:00, 210.28it/s]\n"
     ]
    },
    {
     "name": "stdout",
     "output_type": "stream",
     "text": [
      "Epoch 024 | Train: 0.0517 | Val: 0.0516\n",
      "Early stopping.\n",
      "Test Loss: 0.0442\n"
     ]
    },
    {
     "data": {
      "image/png": "[encoded data removed]",
      "text/plain": [
       "<Figure size 1600x400 with 16 Axes>"
      ]
     },
     "metadata": {},
     "output_type": "display_data"
    }
   ],
   "source": [
    "dataset_name = \"MNIST\"\n",
    "cfg = datasets_config[dataset_name]\n",
    "full_train = cfg[\"cls\"](**cfg[\"args\"])\n",
    "\n",
    "test_set = cfg[\"cls\"](**cfg[\"test_args\"])\n",
    "val_size = len(test_set) // 9\n",
    "train_set, val_set = random_split(full_train, [len(full_train)-val_size, val_size])\n",
    "\n",
    "train_loader = DataLoader(\n",
    "    train_set, batch_size=cfg[\"batch_size\"], \n",
    "    shuffle=True, num_workers=4\n",
    ")\n",
    "val_loader = DataLoader(\n",
    "    val_set, batch_size=cfg[\"batch_size\"],\n",
    "    shuffle=False, num_workers=4\n",
    ")\n",
    "test_loader = DataLoader(\n",
    "    test_set, batch_size=cfg[\"batch_size\"],\n",
    "    shuffle=False, num_workers=4\n",
    ")\n",
    "\n",
    "model = VQVAE(dataset_name)\n",
    "\n",
    "best_model = train_vqvae(\n",
    "    model, train_loader, val_loader,\n",
    "    n_epochs=100, lr=2e-4, patience=15,\n",
    "    save_path=f\"best_{dataset_name.lower()}_vqvae.pth\"\n",
    ")\n",
    "\n",
    "evaluate(best_model, test_loader)\n",
    "visualize_reconstructions(best_model, test_loader, n=8)"
   ]
  },
  {
   "cell_type": "markdown",
   "id": "6ed352b6",
   "metadata": {},
   "source": [
    "### Driver code (CIFAR10)"
   ]
  },
  {
   "cell_type": "code",
   "execution_count": 12,
   "id": "5099d31f",
   "metadata": {},
   "outputs": [
    {
     "name": "stderr",
     "output_type": "stream",
     "text": [
      "Training Epoch 1: 100%|██████████| 382/382 [00:02<00:00, 169.27it/s]\n"
     ]
    },
    {
     "name": "stdout",
     "output_type": "stream",
     "text": [
      "Epoch 001 | Train: 0.1837 | Val: 0.1447\n"
     ]
    },
    {
     "name": "stderr",
     "output_type": "stream",
     "text": [
      "Training Epoch 2: 100%|██████████| 382/382 [00:01<00:00, 198.62it/s]\n"
     ]
    },
    {
     "name": "stdout",
     "output_type": "stream",
     "text": [
      "Epoch 002 | Train: 0.1768 | Val: 0.1937\n"
     ]
    },
    {
     "name": "stderr",
     "output_type": "stream",
     "text": [
      "Training Epoch 3: 100%|██████████| 382/382 [00:01<00:00, 197.42it/s]\n"
     ]
    },
    {
     "name": "stdout",
     "output_type": "stream",
     "text": [
      "Epoch 003 | Train: 0.1731 | Val: 0.1457\n"
     ]
    },
    {
     "name": "stderr",
     "output_type": "stream",
     "text": [
      "Training Epoch 4: 100%|██████████| 382/382 [00:01<00:00, 195.71it/s]\n"
     ]
    },
    {
     "name": "stdout",
     "output_type": "stream",
     "text": [
      "Epoch 004 | Train: 0.0920 | Val: 0.0703\n"
     ]
    },
    {
     "name": "stderr",
     "output_type": "stream",
     "text": [
      "Training Epoch 5: 100%|██████████| 382/382 [00:01<00:00, 198.42it/s]\n"
     ]
    },
    {
     "name": "stdout",
     "output_type": "stream",
     "text": [
      "Epoch 005 | Train: 0.0640 | Val: 0.0589\n"
     ]
    },
    {
     "name": "stderr",
     "output_type": "stream",
     "text": [
      "Training Epoch 6: 100%|██████████| 382/382 [00:01<00:00, 198.55it/s]\n"
     ]
    },
    {
     "name": "stdout",
     "output_type": "stream",
     "text": [
      "Epoch 006 | Train: 0.0600 | Val: 0.0595\n"
     ]
    },
    {
     "name": "stderr",
     "output_type": "stream",
     "text": [
      "Training Epoch 7: 100%|██████████| 382/382 [00:01<00:00, 198.11it/s]\n"
     ]
    },
    {
     "name": "stdout",
     "output_type": "stream",
     "text": [
      "Epoch 007 | Train: 0.0593 | Val: 0.0585\n"
     ]
    },
    {
     "name": "stderr",
     "output_type": "stream",
     "text": [
      "Training Epoch 8: 100%|██████████| 382/382 [00:01<00:00, 195.13it/s]\n"
     ]
    },
    {
     "name": "stdout",
     "output_type": "stream",
     "text": [
      "Epoch 008 | Train: 0.0588 | Val: 0.0589\n"
     ]
    },
    {
     "name": "stderr",
     "output_type": "stream",
     "text": [
      "Training Epoch 9: 100%|██████████| 382/382 [00:01<00:00, 193.89it/s]\n"
     ]
    },
    {
     "name": "stdout",
     "output_type": "stream",
     "text": [
      "Epoch 009 | Train: 0.0580 | Val: 0.0574\n"
     ]
    },
    {
     "name": "stderr",
     "output_type": "stream",
     "text": [
      "Training Epoch 10: 100%|██████████| 382/382 [00:01<00:00, 196.79it/s]\n"
     ]
    },
    {
     "name": "stdout",
     "output_type": "stream",
     "text": [
      "Epoch 010 | Train: 0.0580 | Val: 0.0593\n"
     ]
    },
    {
     "name": "stderr",
     "output_type": "stream",
     "text": [
      "Training Epoch 11: 100%|██████████| 382/382 [00:01<00:00, 193.82it/s]\n"
     ]
    },
    {
     "name": "stdout",
     "output_type": "stream",
     "text": [
      "Epoch 011 | Train: 0.0578 | Val: 0.0570\n"
     ]
    },
    {
     "name": "stderr",
     "output_type": "stream",
     "text": [
      "Training Epoch 12: 100%|██████████| 382/382 [00:01<00:00, 196.00it/s]\n"
     ]
    },
    {
     "name": "stdout",
     "output_type": "stream",
     "text": [
      "Epoch 012 | Train: 0.0582 | Val: 0.0581\n"
     ]
    },
    {
     "name": "stderr",
     "output_type": "stream",
     "text": [
      "Training Epoch 13: 100%|██████████| 382/382 [00:02<00:00, 184.97it/s]\n"
     ]
    },
    {
     "name": "stdout",
     "output_type": "stream",
     "text": [
      "Epoch 013 | Train: 0.0584 | Val: 0.0573\n"
     ]
    },
    {
     "name": "stderr",
     "output_type": "stream",
     "text": [
      "Training Epoch 14: 100%|██████████| 382/382 [00:01<00:00, 195.21it/s]\n"
     ]
    },
    {
     "name": "stdout",
     "output_type": "stream",
     "text": [
      "Epoch 014 | Train: 0.0591 | Val: 0.0602\n"
     ]
    },
    {
     "name": "stderr",
     "output_type": "stream",
     "text": [
      "Training Epoch 15: 100%|██████████| 382/382 [00:01<00:00, 199.12it/s]\n"
     ]
    },
    {
     "name": "stdout",
     "output_type": "stream",
     "text": [
      "Epoch 015 | Train: 0.0594 | Val: 0.0593\n"
     ]
    },
    {
     "name": "stderr",
     "output_type": "stream",
     "text": [
      "Training Epoch 16: 100%|██████████| 382/382 [00:01<00:00, 194.66it/s]\n"
     ]
    },
    {
     "name": "stdout",
     "output_type": "stream",
     "text": [
      "Epoch 016 | Train: 0.0601 | Val: 0.0597\n"
     ]
    },
    {
     "name": "stderr",
     "output_type": "stream",
     "text": [
      "Training Epoch 17: 100%|██████████| 382/382 [00:01<00:00, 196.92it/s]\n"
     ]
    },
    {
     "name": "stdout",
     "output_type": "stream",
     "text": [
      "Epoch 017 | Train: 0.0608 | Val: 0.0613\n"
     ]
    },
    {
     "name": "stderr",
     "output_type": "stream",
     "text": [
      "Training Epoch 18: 100%|██████████| 382/382 [00:01<00:00, 193.33it/s]\n"
     ]
    },
    {
     "name": "stdout",
     "output_type": "stream",
     "text": [
      "Epoch 018 | Train: 0.0616 | Val: 0.0619\n"
     ]
    },
    {
     "name": "stderr",
     "output_type": "stream",
     "text": [
      "Training Epoch 19: 100%|██████████| 382/382 [00:01<00:00, 191.12it/s]\n"
     ]
    },
    {
     "name": "stdout",
     "output_type": "stream",
     "text": [
      "Epoch 019 | Train: 0.0630 | Val: 0.0630\n"
     ]
    },
    {
     "name": "stderr",
     "output_type": "stream",
     "text": [
      "Training Epoch 20: 100%|██████████| 382/382 [00:02<00:00, 182.40it/s]\n"
     ]
    },
    {
     "name": "stdout",
     "output_type": "stream",
     "text": [
      "Epoch 020 | Train: 0.0651 | Val: 0.0665\n"
     ]
    },
    {
     "name": "stderr",
     "output_type": "stream",
     "text": [
      "Training Epoch 21: 100%|██████████| 382/382 [00:01<00:00, 196.09it/s]\n"
     ]
    },
    {
     "name": "stdout",
     "output_type": "stream",
     "text": [
      "Epoch 021 | Train: 0.0658 | Val: 0.0664\n"
     ]
    },
    {
     "name": "stderr",
     "output_type": "stream",
     "text": [
      "Training Epoch 22: 100%|██████████| 382/382 [00:01<00:00, 197.64it/s]\n"
     ]
    },
    {
     "name": "stdout",
     "output_type": "stream",
     "text": [
      "Epoch 022 | Train: 0.0659 | Val: 0.0655\n"
     ]
    },
    {
     "name": "stderr",
     "output_type": "stream",
     "text": [
      "Training Epoch 23: 100%|██████████| 382/382 [00:01<00:00, 198.83it/s]\n"
     ]
    },
    {
     "name": "stdout",
     "output_type": "stream",
     "text": [
      "Epoch 023 | Train: 0.0661 | Val: 0.0653\n"
     ]
    },
    {
     "name": "stderr",
     "output_type": "stream",
     "text": [
      "Training Epoch 24: 100%|██████████| 382/382 [00:01<00:00, 197.02it/s]\n"
     ]
    },
    {
     "name": "stdout",
     "output_type": "stream",
     "text": [
      "Epoch 024 | Train: 0.0665 | Val: 0.0652\n"
     ]
    },
    {
     "name": "stderr",
     "output_type": "stream",
     "text": [
      "Training Epoch 25: 100%|██████████| 382/382 [00:01<00:00, 198.73it/s]\n"
     ]
    },
    {
     "name": "stdout",
     "output_type": "stream",
     "text": [
      "Epoch 025 | Train: 0.0666 | Val: 0.0661\n"
     ]
    },
    {
     "name": "stderr",
     "output_type": "stream",
     "text": [
      "Training Epoch 26: 100%|██████████| 382/382 [00:01<00:00, 200.76it/s]\n"
     ]
    },
    {
     "name": "stdout",
     "output_type": "stream",
     "text": [
      "Epoch 026 | Train: 0.0671 | Val: 0.0661\n",
      "Early stopping.\n",
      "Test Loss: 0.0569\n"
     ]
    },
    {
     "data": {
      "image/png": "[encoded data removed]",
      "text/plain": [
       "<Figure size 1600x400 with 16 Axes>"
      ]
     },
     "metadata": {},
     "output_type": "display_data"
    }
   ],
   "source": [
    "dataset_name = \"CIFAR10\"\n",
    "cfg = datasets_config[dataset_name]\n",
    "full_train = cfg[\"cls\"](**cfg[\"args\"])\n",
    "\n",
    "test_set = cfg[\"cls\"](**cfg[\"test_args\"])\n",
    "val_size = len(test_set) // 9\n",
    "train_set, val_set = random_split(full_train, [len(full_train)-val_size, val_size])\n",
    "\n",
    "train_loader = DataLoader(\n",
    "    train_set, batch_size=cfg[\"batch_size\"], \n",
    "    shuffle=True, num_workers=4\n",
    ")\n",
    "val_loader = DataLoader(\n",
    "    val_set, batch_size=cfg[\"batch_size\"],\n",
    "    shuffle=False, num_workers=4\n",
    ")\n",
    "test_loader = DataLoader(\n",
    "    test_set, batch_size=cfg[\"batch_size\"],\n",
    "    shuffle=False, num_workers=4\n",
    ")\n",
    "\n",
    "model = VQVAE(dataset_name)\n",
    "\n",
    "best_model = train_vqvae(\n",
    "    model, train_loader, val_loader,\n",
    "    n_epochs=100, lr=2e-4, patience=15,\n",
    "    save_path=f\"best_{dataset_name.lower()}_vqvae.pth\"\n",
    ")\n",
    "\n",
    "evaluate(best_model, test_loader)\n",
    "visualize_reconstructions(best_model, test_loader, n=8)"
   ]
  }
 ],
 "metadata": {
  "kernelspec": {
   "display_name": ".sginfocomm",
   "language": "python",
   "name": "python3"
  },
  "language_info": {
   "codemirror_mode": {
    "name": "ipython",
    "version": 3
   },
   "file_extension": ".py",
   "mimetype": "text/x-python",
   "name": "python",
   "nbconvert_exporter": "python",
   "pygments_lexer": "ipython3",
   "version": "3.12.8"
  }
 },
 "nbformat": 4,
 "nbformat_minor": 5
}
